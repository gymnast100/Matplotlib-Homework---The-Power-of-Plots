{
 "cells": [
  {
   "cell_type": "markdown",
   "metadata": {},
   "source": [
    "## Observations and Insights"
   ]
  },
  {
   "cell_type": "markdown",
   "metadata": {},
   "source": []
  },
  {
   "cell_type": "markdown",
   "metadata": {},
   "source": [
    "## Dependencies and starter code"
   ]
  },
  {
   "cell_type": "code",
   "execution_count": null,
   "metadata": {},
   "outputs": [],
   "source": [
    "#Observations and Insights:\n",
    "#1)Overall, Capomulin seems to be a more viable drug regimen than the others in this experiment to \n",
    "#reduce tumor growth.\n",
    "#2) Most number of mice survived the treatment and showed tumor volume reduction only with Capomulin.\n",
    "#Mice treated with Capomulin and Remicane showed considerable reduction in tumor sizes than the other regimens.\n",
    "#Even though Mouse k403  treated by Ramicane showed the smallest tumor of 22.05 mm3 , it had 1 metastatic site. \n",
    "#Capomulin treated Mouse s185 had the 2nd smallest tumor of 23.34 mm3 but had 1 metastatic site. \n",
    "#With the exception of Remicane, there were mice deaths with all the other regimens during the study.\n",
    "# There is a fluctuation in the decrease and increase in tumor volume during the time of study.There is also a strong\n",
    "#correlation between mouse weight and tumor volume, indicating that with the increase in age and weight in mice , \n",
    "#tumor volume increases. Perhaps adjusting dosage of medication per oz increase in body weight should be studied to \n",
    "#determine the exact dosage of medication to maintain decrease in tumor volume.\n",
    "# Infubinol regimen had one potential outlier within its dataset. \n",
    "#While most mice showed tumor volume increase, or showed metastatic sites with the decrease in tumor volume , there was \n",
    "#one mouse Capomulin Mouse x401 that had reduction in tumor growth and had no metastatic sites on the last day \n",
    "#in the study. This strongly supports that Capomulin is the most promising of all the regimens used in this study."
   ]
  },
  {
   "cell_type": "code",
   "execution_count": 59,
   "metadata": {},
   "outputs": [
    {
     "data": {
      "text/html": [
       "<div>\n",
       "<style scoped>\n",
       "    .dataframe tbody tr th:only-of-type {\n",
       "        vertical-align: middle;\n",
       "    }\n",
       "\n",
       "    .dataframe tbody tr th {\n",
       "        vertical-align: top;\n",
       "    }\n",
       "\n",
       "    .dataframe thead th {\n",
       "        text-align: right;\n",
       "    }\n",
       "</style>\n",
       "<table border=\"1\" class=\"dataframe\">\n",
       "  <thead>\n",
       "    <tr style=\"text-align: right;\">\n",
       "      <th></th>\n",
       "      <th>Mouse ID</th>\n",
       "      <th>Drug Regimen</th>\n",
       "      <th>Sex</th>\n",
       "      <th>Age_months</th>\n",
       "      <th>Weight (g)</th>\n",
       "      <th>Timepoint</th>\n",
       "      <th>Tumor Volume (mm3)</th>\n",
       "      <th>Metastatic Sites</th>\n",
       "    </tr>\n",
       "  </thead>\n",
       "  <tbody>\n",
       "    <tr>\n",
       "      <th>0</th>\n",
       "      <td>k403</td>\n",
       "      <td>Ramicane</td>\n",
       "      <td>Male</td>\n",
       "      <td>21</td>\n",
       "      <td>16</td>\n",
       "      <td>0</td>\n",
       "      <td>45.000000</td>\n",
       "      <td>0</td>\n",
       "    </tr>\n",
       "    <tr>\n",
       "      <th>1</th>\n",
       "      <td>k403</td>\n",
       "      <td>Ramicane</td>\n",
       "      <td>Male</td>\n",
       "      <td>21</td>\n",
       "      <td>16</td>\n",
       "      <td>5</td>\n",
       "      <td>38.825898</td>\n",
       "      <td>0</td>\n",
       "    </tr>\n",
       "    <tr>\n",
       "      <th>2</th>\n",
       "      <td>k403</td>\n",
       "      <td>Ramicane</td>\n",
       "      <td>Male</td>\n",
       "      <td>21</td>\n",
       "      <td>16</td>\n",
       "      <td>10</td>\n",
       "      <td>35.014271</td>\n",
       "      <td>1</td>\n",
       "    </tr>\n",
       "    <tr>\n",
       "      <th>3</th>\n",
       "      <td>k403</td>\n",
       "      <td>Ramicane</td>\n",
       "      <td>Male</td>\n",
       "      <td>21</td>\n",
       "      <td>16</td>\n",
       "      <td>15</td>\n",
       "      <td>34.223992</td>\n",
       "      <td>1</td>\n",
       "    </tr>\n",
       "    <tr>\n",
       "      <th>4</th>\n",
       "      <td>k403</td>\n",
       "      <td>Ramicane</td>\n",
       "      <td>Male</td>\n",
       "      <td>21</td>\n",
       "      <td>16</td>\n",
       "      <td>20</td>\n",
       "      <td>32.997729</td>\n",
       "      <td>1</td>\n",
       "    </tr>\n",
       "  </tbody>\n",
       "</table>\n",
       "</div>"
      ],
      "text/plain": [
       "  Mouse ID Drug Regimen   Sex  Age_months  Weight (g)  Timepoint  \\\n",
       "0     k403     Ramicane  Male          21          16          0   \n",
       "1     k403     Ramicane  Male          21          16          5   \n",
       "2     k403     Ramicane  Male          21          16         10   \n",
       "3     k403     Ramicane  Male          21          16         15   \n",
       "4     k403     Ramicane  Male          21          16         20   \n",
       "\n",
       "   Tumor Volume (mm3)  Metastatic Sites  \n",
       "0           45.000000                 0  \n",
       "1           38.825898                 0  \n",
       "2           35.014271                 1  \n",
       "3           34.223992                 1  \n",
       "4           32.997729                 1  "
      ]
     },
     "execution_count": 59,
     "metadata": {},
     "output_type": "execute_result"
    }
   ],
   "source": [
    "# Dependencies and Setup\n",
    "import matplotlib.pyplot as plt\n",
    "import pandas as pd\n",
    "import scipy.stats as st\n",
    "from scipy.stats import linregress\n",
    "import numpy as np \n",
    "%matplotlib inline\n",
    "\n",
    "# Study data files\n",
    "mouse_metadata = \"data/Mouse_metadata.csv\"\n",
    "study_results = \"data/Study_results.csv\"\n",
    "\n",
    "# Read the mouse data and the study results\n",
    "mouse_metadata = pd.read_csv(mouse_metadata)\n",
    "study_results = pd.read_csv(study_results)\n",
    "\n",
    "# Combine the data into a single dataset\n",
    "combined_df = pd.merge(mouse_metadata , study_results , how= \"left\" , on=\"Mouse ID\")\n",
    "combined_df.head()\n",
    "\n"
   ]
  },
  {
   "cell_type": "markdown",
   "metadata": {},
   "source": [
    "## Summary statistics"
   ]
  },
  {
   "cell_type": "code",
   "execution_count": 45,
   "metadata": {},
   "outputs": [
    {
     "data": {
      "text/html": [
       "<div>\n",
       "<style scoped>\n",
       "    .dataframe tbody tr th:only-of-type {\n",
       "        vertical-align: middle;\n",
       "    }\n",
       "\n",
       "    .dataframe tbody tr th {\n",
       "        vertical-align: top;\n",
       "    }\n",
       "\n",
       "    .dataframe thead th {\n",
       "        text-align: right;\n",
       "    }\n",
       "</style>\n",
       "<table border=\"1\" class=\"dataframe\">\n",
       "  <thead>\n",
       "    <tr style=\"text-align: right;\">\n",
       "      <th></th>\n",
       "      <th>Mean Tumor Volume</th>\n",
       "      <th>Median Tumor Volume</th>\n",
       "      <th>Tumor Volume Variance</th>\n",
       "      <th>Tumor Volume Std. Dev.</th>\n",
       "      <th>Tumor Volume Std. Err.</th>\n",
       "    </tr>\n",
       "    <tr>\n",
       "      <th>Drug Regimen</th>\n",
       "      <th></th>\n",
       "      <th></th>\n",
       "      <th></th>\n",
       "      <th></th>\n",
       "      <th></th>\n",
       "    </tr>\n",
       "  </thead>\n",
       "  <tbody>\n",
       "    <tr>\n",
       "      <th>Capomulin</th>\n",
       "      <td>40.675741</td>\n",
       "      <td>41.557809</td>\n",
       "      <td>24.947764</td>\n",
       "      <td>4.994774</td>\n",
       "      <td>0.329346</td>\n",
       "    </tr>\n",
       "    <tr>\n",
       "      <th>Ceftamin</th>\n",
       "      <td>52.591172</td>\n",
       "      <td>51.776157</td>\n",
       "      <td>39.290177</td>\n",
       "      <td>6.268188</td>\n",
       "      <td>0.469821</td>\n",
       "    </tr>\n",
       "    <tr>\n",
       "      <th>Infubinol</th>\n",
       "      <td>52.884795</td>\n",
       "      <td>51.820584</td>\n",
       "      <td>43.128684</td>\n",
       "      <td>6.567243</td>\n",
       "      <td>0.492236</td>\n",
       "    </tr>\n",
       "    <tr>\n",
       "      <th>Ketapril</th>\n",
       "      <td>55.235638</td>\n",
       "      <td>53.698743</td>\n",
       "      <td>68.553577</td>\n",
       "      <td>8.279709</td>\n",
       "      <td>0.603860</td>\n",
       "    </tr>\n",
       "    <tr>\n",
       "      <th>Naftisol</th>\n",
       "      <td>54.331565</td>\n",
       "      <td>52.509285</td>\n",
       "      <td>66.173479</td>\n",
       "      <td>8.134708</td>\n",
       "      <td>0.596466</td>\n",
       "    </tr>\n",
       "    <tr>\n",
       "      <th>Placebo</th>\n",
       "      <td>54.033581</td>\n",
       "      <td>52.288934</td>\n",
       "      <td>61.168083</td>\n",
       "      <td>7.821003</td>\n",
       "      <td>0.581331</td>\n",
       "    </tr>\n",
       "    <tr>\n",
       "      <th>Propriva</th>\n",
       "      <td>52.322552</td>\n",
       "      <td>50.854632</td>\n",
       "      <td>42.351070</td>\n",
       "      <td>6.507770</td>\n",
       "      <td>0.512884</td>\n",
       "    </tr>\n",
       "    <tr>\n",
       "      <th>Ramicane</th>\n",
       "      <td>40.216745</td>\n",
       "      <td>40.673236</td>\n",
       "      <td>23.486704</td>\n",
       "      <td>4.846308</td>\n",
       "      <td>0.320955</td>\n",
       "    </tr>\n",
       "    <tr>\n",
       "      <th>Stelasyn</th>\n",
       "      <td>54.233149</td>\n",
       "      <td>52.431737</td>\n",
       "      <td>59.450562</td>\n",
       "      <td>7.710419</td>\n",
       "      <td>0.573111</td>\n",
       "    </tr>\n",
       "    <tr>\n",
       "      <th>Zoniferol</th>\n",
       "      <td>53.236507</td>\n",
       "      <td>51.818479</td>\n",
       "      <td>48.533355</td>\n",
       "      <td>6.966589</td>\n",
       "      <td>0.516398</td>\n",
       "    </tr>\n",
       "  </tbody>\n",
       "</table>\n",
       "</div>"
      ],
      "text/plain": [
       "              Mean Tumor Volume  Median Tumor Volume  Tumor Volume Variance  \\\n",
       "Drug Regimen                                                                  \n",
       "Capomulin             40.675741            41.557809              24.947764   \n",
       "Ceftamin              52.591172            51.776157              39.290177   \n",
       "Infubinol             52.884795            51.820584              43.128684   \n",
       "Ketapril              55.235638            53.698743              68.553577   \n",
       "Naftisol              54.331565            52.509285              66.173479   \n",
       "Placebo               54.033581            52.288934              61.168083   \n",
       "Propriva              52.322552            50.854632              42.351070   \n",
       "Ramicane              40.216745            40.673236              23.486704   \n",
       "Stelasyn              54.233149            52.431737              59.450562   \n",
       "Zoniferol             53.236507            51.818479              48.533355   \n",
       "\n",
       "              Tumor Volume Std. Dev.  Tumor Volume Std. Err.  \n",
       "Drug Regimen                                                  \n",
       "Capomulin                   4.994774                0.329346  \n",
       "Ceftamin                    6.268188                0.469821  \n",
       "Infubinol                   6.567243                0.492236  \n",
       "Ketapril                    8.279709                0.603860  \n",
       "Naftisol                    8.134708                0.596466  \n",
       "Placebo                     7.821003                0.581331  \n",
       "Propriva                    6.507770                0.512884  \n",
       "Ramicane                    4.846308                0.320955  \n",
       "Stelasyn                    7.710419                0.573111  \n",
       "Zoniferol                   6.966589                0.516398  "
      ]
     },
     "execution_count": 45,
     "metadata": {},
     "output_type": "execute_result"
    }
   ],
   "source": [
    "# Generate a summary statistics table of mean, median, variance, standard deviation, \n",
    "#and SEM of the tumor volume for each regimen\n",
    "\n",
    "# Grouping Data by coulmn \"Drug Regimen\" & using statistical funtions on the groupby object's column \"Tumor Volume\"\n",
    "mean = combined_df.groupby(\"Drug Regimen\")[\"Tumor Volume (mm3)\"].mean()\n",
    "median = combined_df.groupby(\"Drug Regimen\")[\"Tumor Volume (mm3)\"].median()\n",
    "variance =  combined_df.groupby(\"Drug Regimen\")[\"Tumor Volume (mm3)\"].var()\n",
    "std_dev =  combined_df.groupby(\"Drug Regimen\")[\"Tumor Volume (mm3)\"].std()\n",
    "std_error =  combined_df.groupby(\"Drug Regimen\")[\"Tumor Volume (mm3)\"].sem()\n",
    "\n",
    "# creating a  summary table by putting all the series into a Dataframe\n",
    "stat_df = pd.DataFrame({\"Mean Tumor Volume\": mean,\"Median Tumor Volume\": median,\"Tumor Volume Variance\": variance,\n",
    "                        \"Tumor Volume Std. Dev.\": std_dev,\"Tumor Volume Std. Err.\": std_error})\n",
    "stat_df\n",
    "\n"
   ]
  },
  {
   "cell_type": "code",
   "execution_count": 46,
   "metadata": {},
   "outputs": [
    {
     "data": {
      "text/html": [
       "<div>\n",
       "<style scoped>\n",
       "    .dataframe tbody tr th:only-of-type {\n",
       "        vertical-align: middle;\n",
       "    }\n",
       "\n",
       "    .dataframe tbody tr th {\n",
       "        vertical-align: top;\n",
       "    }\n",
       "\n",
       "    .dataframe thead tr th {\n",
       "        text-align: left;\n",
       "    }\n",
       "\n",
       "    .dataframe thead tr:last-of-type th {\n",
       "        text-align: right;\n",
       "    }\n",
       "</style>\n",
       "<table border=\"1\" class=\"dataframe\">\n",
       "  <thead>\n",
       "    <tr>\n",
       "      <th></th>\n",
       "      <th colspan=\"5\" halign=\"left\">Tumor Volume (mm3)</th>\n",
       "    </tr>\n",
       "    <tr>\n",
       "      <th></th>\n",
       "      <th>mean</th>\n",
       "      <th>median</th>\n",
       "      <th>var</th>\n",
       "      <th>std</th>\n",
       "      <th>sem</th>\n",
       "    </tr>\n",
       "    <tr>\n",
       "      <th>Drug Regimen</th>\n",
       "      <th></th>\n",
       "      <th></th>\n",
       "      <th></th>\n",
       "      <th></th>\n",
       "      <th></th>\n",
       "    </tr>\n",
       "  </thead>\n",
       "  <tbody>\n",
       "    <tr>\n",
       "      <th>Capomulin</th>\n",
       "      <td>40.675741</td>\n",
       "      <td>41.557809</td>\n",
       "      <td>24.947764</td>\n",
       "      <td>4.994774</td>\n",
       "      <td>0.329346</td>\n",
       "    </tr>\n",
       "    <tr>\n",
       "      <th>Ceftamin</th>\n",
       "      <td>52.591172</td>\n",
       "      <td>51.776157</td>\n",
       "      <td>39.290177</td>\n",
       "      <td>6.268188</td>\n",
       "      <td>0.469821</td>\n",
       "    </tr>\n",
       "    <tr>\n",
       "      <th>Infubinol</th>\n",
       "      <td>52.884795</td>\n",
       "      <td>51.820584</td>\n",
       "      <td>43.128684</td>\n",
       "      <td>6.567243</td>\n",
       "      <td>0.492236</td>\n",
       "    </tr>\n",
       "    <tr>\n",
       "      <th>Ketapril</th>\n",
       "      <td>55.235638</td>\n",
       "      <td>53.698743</td>\n",
       "      <td>68.553577</td>\n",
       "      <td>8.279709</td>\n",
       "      <td>0.603860</td>\n",
       "    </tr>\n",
       "    <tr>\n",
       "      <th>Naftisol</th>\n",
       "      <td>54.331565</td>\n",
       "      <td>52.509285</td>\n",
       "      <td>66.173479</td>\n",
       "      <td>8.134708</td>\n",
       "      <td>0.596466</td>\n",
       "    </tr>\n",
       "    <tr>\n",
       "      <th>Placebo</th>\n",
       "      <td>54.033581</td>\n",
       "      <td>52.288934</td>\n",
       "      <td>61.168083</td>\n",
       "      <td>7.821003</td>\n",
       "      <td>0.581331</td>\n",
       "    </tr>\n",
       "    <tr>\n",
       "      <th>Propriva</th>\n",
       "      <td>52.322552</td>\n",
       "      <td>50.854632</td>\n",
       "      <td>42.351070</td>\n",
       "      <td>6.507770</td>\n",
       "      <td>0.512884</td>\n",
       "    </tr>\n",
       "    <tr>\n",
       "      <th>Ramicane</th>\n",
       "      <td>40.216745</td>\n",
       "      <td>40.673236</td>\n",
       "      <td>23.486704</td>\n",
       "      <td>4.846308</td>\n",
       "      <td>0.320955</td>\n",
       "    </tr>\n",
       "    <tr>\n",
       "      <th>Stelasyn</th>\n",
       "      <td>54.233149</td>\n",
       "      <td>52.431737</td>\n",
       "      <td>59.450562</td>\n",
       "      <td>7.710419</td>\n",
       "      <td>0.573111</td>\n",
       "    </tr>\n",
       "    <tr>\n",
       "      <th>Zoniferol</th>\n",
       "      <td>53.236507</td>\n",
       "      <td>51.818479</td>\n",
       "      <td>48.533355</td>\n",
       "      <td>6.966589</td>\n",
       "      <td>0.516398</td>\n",
       "    </tr>\n",
       "  </tbody>\n",
       "</table>\n",
       "</div>"
      ],
      "text/plain": [
       "             Tumor Volume (mm3)                                          \n",
       "                           mean     median        var       std       sem\n",
       "Drug Regimen                                                             \n",
       "Capomulin             40.675741  41.557809  24.947764  4.994774  0.329346\n",
       "Ceftamin              52.591172  51.776157  39.290177  6.268188  0.469821\n",
       "Infubinol             52.884795  51.820584  43.128684  6.567243  0.492236\n",
       "Ketapril              55.235638  53.698743  68.553577  8.279709  0.603860\n",
       "Naftisol              54.331565  52.509285  66.173479  8.134708  0.596466\n",
       "Placebo               54.033581  52.288934  61.168083  7.821003  0.581331\n",
       "Propriva              52.322552  50.854632  42.351070  6.507770  0.512884\n",
       "Ramicane              40.216745  40.673236  23.486704  4.846308  0.320955\n",
       "Stelasyn              54.233149  52.431737  59.450562  7.710419  0.573111\n",
       "Zoniferol             53.236507  51.818479  48.533355  6.966589  0.516398"
      ]
     },
     "execution_count": 46,
     "metadata": {},
     "output_type": "execute_result"
    }
   ],
   "source": [
    "# using aggregate funtion on Groupby object to return the summary table \n",
    "stat_summary = combined_df.groupby(\"Drug Regimen\").agg({'Tumor Volume (mm3)': [\"mean\",\"median\",\"var\",\"std\",\"sem\"]})\n",
    "stat_summary\n"
   ]
  },
  {
   "cell_type": "markdown",
   "metadata": {},
   "source": [
    "## Bar plots"
   ]
  },
  {
   "cell_type": "code",
   "execution_count": 47,
   "metadata": {},
   "outputs": [
    {
     "data": {
      "text/plain": [
       "<matplotlib.axes._subplots.AxesSubplot at 0x1a15e31b00>"
      ]
     },
     "execution_count": 47,
     "metadata": {},
     "output_type": "execute_result"
    },
    {
     "data": {
      "image/png": "[encoded data removed]",
      "text/plain": [
       "<Figure size 432x288 with 1 Axes>"
      ]
     },
     "metadata": {
      "needs_background": "light"
     },
     "output_type": "display_data"
    }
   ],
   "source": [
    "# Generate a bar plot showing number of data points for each treatment regimen using pandas\n",
    "\n",
    "# creating Series to get data for bar plot\n",
    "regimen_datapoints = combined_df[\"Drug Regimen\"].value_counts()\n",
    "\n",
    "# specifying  standard colors\n",
    "colors = ['#1f77b4', '#ff7f0e', '#2ca02c', '#d62728', '#9467bd',\n",
    "            '#8c564b', '#e377c2', '#7f7f7f', '#bcbd22', '#17becf']\n",
    "            \n",
    "#plotting the bar graph\n",
    "data_plot = regimen_datapoints.plot.bar(color = colors)\n",
    "#setting x-axis label\n",
    "data_plot.set_xlabel(\"Drug Regimen\")\n",
    "#setting y-axis label\n",
    "data_plot.set_ylabel(\"Number of Data Points\")\n",
    "\n",
    "\n",
    "data_plot\n",
    "\n",
    "\n"
   ]
  },
  {
   "cell_type": "code",
   "execution_count": 48,
   "metadata": {},
   "outputs": [
    {
     "data": {
      "image/png": "[encoded data removed]",
      "text/plain": [
       "<Figure size 432x288 with 1 Axes>"
      ]
     },
     "metadata": {
      "needs_background": "light"
     },
     "output_type": "display_data"
    }
   ],
   "source": [
    "# Generate a bar plot showing number of data points for each treatment regimen using pyplot\n",
    "\n",
    "# creating Series to get data for bar plot\n",
    "regimen_datapoints = combined_df[\"Drug Regimen\"].value_counts()\n",
    "\n",
    "#Creating a dataframe from the series\n",
    "df=pd.DataFrame(regimen_datapoints)\n",
    "# resetting index\n",
    "df.reset_index(inplace=True)\n",
    "#renaming columns\n",
    "renamed_df = df.rename(columns={\"index\":\"Drug\"})\n",
    "\n",
    "# x-axis data for bar graph\n",
    "x_axis = np.arange(len(renamed_df[\"Drug\"]))\n",
    "\n",
    "# y-axis data forbar graph\n",
    "y_axis = renamed_df[\"Drug Regimen\"]\n",
    "\n",
    "# values for location of ticks on x-axis\n",
    "tick_locations = [value for value in x_axis]\n",
    "#  values for tick labels\n",
    "plt.xticks(tick_locations,[ x for x in renamed_df[\"Drug\"]], rotation =\"vertical\")\n",
    "\n",
    "# setting x-axis limits\n",
    "x_lim = plt.xlim(x_axis[0]-1, x_axis[-1]+1)\n",
    "\n",
    "#setting y-axis limits\n",
    "y_lim = plt.ylim(0,regimen_datapoints.max()+15)\n",
    "\n",
    "# naming x-axis and y-axis \n",
    "plt.xlabel(\"Drug Regimen\")\n",
    "plt.ylabel(\"Number of Data Points\")\n",
    "\n",
    "py_plot = plt.bar(x_axis, y_axis,)\n",
    "\n",
    "\n",
    "\n",
    "   "
   ]
  },
  {
   "cell_type": "markdown",
   "metadata": {},
   "source": [
    "## Pie plots"
   ]
  },
  {
   "cell_type": "code",
   "execution_count": 49,
   "metadata": {},
   "outputs": [
    {
     "data": {
      "text/plain": [
       "Text(0, 0.5, 'Sex')"
      ]
     },
     "execution_count": 49,
     "metadata": {},
     "output_type": "execute_result"
    },
    {
     "data": {
      "image/png": "[encoded data removed]",
      "text/plain": [
       "<Figure size 432x288 with 1 Axes>"
      ]
     },
     "metadata": {},
     "output_type": "display_data"
    }
   ],
   "source": [
    "# Generate a pie plot showing the distribution of female versus male mice using pandas\n",
    "\n",
    "# data for pie plot\n",
    "dist_sex = mouse_metadata[\"Sex\"].value_counts()\n",
    "\n",
    "pieplot = dist_sex.plot.pie(autopct=\"%1.1f%%\")\n",
    "pieplot.set_ylabel(\"Sex\")\n"
   ]
  },
  {
   "cell_type": "code",
   "execution_count": 50,
   "metadata": {},
   "outputs": [
    {
     "data": {
      "text/plain": [
       "([<matplotlib.patches.Wedge at 0x1a17124358>,\n",
       "  <matplotlib.patches.Wedge at 0x1a17124a90>],\n",
       " [Text(-0.0069391759767656585, 1.0999781124353174, 'Male'),\n",
       "  Text(0.006939175976765524, -1.0999781124353174, 'Female')],\n",
       " [Text(-0.0037850050782358134, 0.5999880613283548, '50.2%'),\n",
       "  Text(0.00378500507823574, -0.5999880613283548, '49.8%')])"
      ]
     },
     "execution_count": 50,
     "metadata": {},
     "output_type": "execute_result"
    },
    {
     "data": {
      "image/png": "[encoded data removed]",
      "text/plain": [
       "<Figure size 432x288 with 1 Axes>"
      ]
     },
     "metadata": {},
     "output_type": "display_data"
    }
   ],
   "source": [
    "# Generate a pie plot showing the distribution of female versus male mice using pyplot\n",
    "\n",
    "# data for pie plot\n",
    "dist_sex = mouse_metadata[\"Sex\"].value_counts()\n",
    "\n",
    "#creating a dataframe from the series and resetting index\n",
    "df=pd.DataFrame(dist_sex)\n",
    "df.reset_index(inplace=True)\n",
    "#naming y-axis\n",
    "plt.ylabel(\"Sex\")\n",
    "# plotting \n",
    "plt.pie(df[\"Sex\"], autopct = \"%1.1f%%\", labels=df[\"index\"])\n"
   ]
  },
  {
   "cell_type": "markdown",
   "metadata": {},
   "source": [
    "## Quartiles, outliers and boxplots"
   ]
  },
  {
   "cell_type": "code",
   "execution_count": 71,
   "metadata": {},
   "outputs": [
    {
     "name": "stdout",
     "output_type": "stream",
     "text": [
      "The lower quartile of Capomulin  is: 32.37735684\n",
      "The upper quartile of Capomulin is: 40.1592203\n",
      "The interquartile range of Capomulin  is: 7.781863460000004\n",
      "The median of Capomulin  is: 38.125164399999996 \n",
      "Values below 20.70456164999999 could be outliers.\n",
      "Values above 51.83201549 could be outliers.\n",
      "The Capomulin dataset has NO outliers.\n"
     ]
    }
   ],
   "source": [
    "# Calculate the final tumor volume of each mouse across four of the most promising treatment regimens. \n",
    "#Calculate the IQR and quantitatively determine if there are any potential outliers. \n",
    "\n",
    "# Start by getting the last (greatest) timepoint for each mouse\n",
    "#  grouping  merged dataframe by column\"Mouse ID\" to get groupby object.\n",
    "#Using max function on the column\"Timepoint\" to get a series.\n",
    "maxtime_series = combined_df.groupby('Mouse ID')['Timepoint'].max()\n",
    "\n",
    "# creating dataframe out of the series.\n",
    "maxtime_df = pd.DataFrame(maxtime_series)\n",
    "\n",
    "# resetting index\n",
    "maxtime_df.reset_index(inplace=True)\n",
    "#merging new dataframe with original merged dataframe on 2 columns \"Mouse ID\" & \"Timepoint\"\n",
    "merged_maxtime_df = pd.merge(maxtime_df,combined_df, on=['Mouse ID','Timepoint'], how = \"left\")\n",
    "\n",
    "# setting  column \" Drug Regimen \" as index\n",
    "merged_maxtime_df.set_index(\"Drug Regimen\", inplace=True)\n",
    "\n",
    "#filtering rows that have Tumor Volume for Capolumin from column \"Tumor Volume (mm3)\" Resulting in a Series \n",
    "capomulin_data = merged_maxtime_df.loc[\"Capomulin\",\"Tumor Volume (mm3)\"]\n",
    "\n",
    "\n",
    "# Quantitatively determine capomulin outliers\n",
    "\n",
    "# using quantile() funtion on series \"capomulin_data \" to quantitatively find out outliers\n",
    "quartiles = capomulin_data.quantile([.25,.5,.75])\n",
    "lowerq = quartiles[0.25]\n",
    "upperq = quartiles[0.75]\n",
    "iqr = upperq-lowerq\n",
    "\n",
    "print(f\"The lower quartile of Capomulin  is: {lowerq}\")\n",
    "print(f\"The upper quartile of Capomulin is: {upperq}\")\n",
    "print(f\"The interquartile range of Capomulin  is: {iqr}\")\n",
    "print(f\"The median of Capomulin  is: {quartiles[0.5]} \")\n",
    "\n",
    "lower_bound = lowerq - (1.5*iqr)\n",
    "upper_bound = upperq + (1.5*iqr)\n",
    "print(f\"Values below {lower_bound} could be outliers.\")\n",
    "print(f\"Values above {upper_bound} could be outliers.\")\n",
    "print(f\"The Capomulin dataset has NO outliers.\")"
   ]
  },
  {
   "cell_type": "code",
   "execution_count": 72,
   "metadata": {},
   "outputs": [
    {
     "name": "stdout",
     "output_type": "stream",
     "text": [
      "The lower quartile of Ramicane is: 31.56046955\n",
      "The upper quartile of Ramicane is: 40.65900627\n",
      "The interquartile range of Ramicane is: 9.098536719999998\n",
      "The median of Ramicane is: 36.56165229 \n",
      "Values below 17.912664470000003 could be outliers.\n",
      "Values above 54.30681135 could be outliers.\n",
      "The Ramicane dataset has NO outliers.\n"
     ]
    }
   ],
   "source": [
    "#filtering rows from merged dataframe that have Tumor Volume for Ramicane from column \"Tumor Volume(mm3)\"\n",
    "#Resulting in a Series \n",
    "merged_maxtime_df\n",
    "Ramicane_data = merged_maxtime_df.loc[\"Ramicane\",\"Tumor Volume (mm3)\"]\n",
    "\n",
    "# using quantile() funtion on series \"Ramicane_data \" to quantitatively find out outliers\n",
    "quartiles = Ramicane_data.quantile([.25,.5,.75])\n",
    "lowerq = quartiles[0.25]\n",
    "upperq = quartiles[0.75]\n",
    "iqr = upperq-lowerq\n",
    "\n",
    "print(f\"The lower quartile of Ramicane is: {lowerq}\")\n",
    "print(f\"The upper quartile of Ramicane is: {upperq}\")\n",
    "print(f\"The interquartile range of Ramicane is: {iqr}\")\n",
    "print(f\"The median of Ramicane is: {quartiles[0.5]} \")\n",
    "\n",
    "\n",
    "lower_bound = lowerq - (1.5*iqr)\n",
    "upper_bound = upperq + (1.5*iqr)\n",
    "print(f\"Values below {lower_bound} could be outliers.\")\n",
    "print(f\"Values above {upper_bound} could be outliers.\")\n",
    "print(f\"The Ramicane dataset has NO outliers.\")"
   ]
  },
  {
   "cell_type": "code",
   "execution_count": 73,
   "metadata": {},
   "outputs": [
    {
     "name": "stdout",
     "output_type": "stream",
     "text": [
      "The lower quartile of Infubinol is: 54.04860769\n",
      "The upper quartile of Infubinol is: 65.52574285\n",
      "The interquartile range of Infubinol is: 11.477135160000003\n",
      "The median of Infubinol is: 60.16518046 \n",
      "Values below 36.83290494999999 could be outliers.\n",
      "Values above 82.74144559000001 could be outliers.\n",
      "The Infubinol dataset has ONE outlier . It is 36.321346\n"
     ]
    }
   ],
   "source": [
    "#filtering rows from merged dataframe that have Tumor Volume for Infubinol from column \"Tumor Volume(mm3)\"\n",
    "#Resulting in a Series \n",
    "merged_maxtime_df.head()\n",
    "Infubinol_data = merged_maxtime_df.loc[\"Infubinol\",\"Tumor Volume (mm3)\"]\n",
    "\n",
    "# using quantile() funtion on series \"Infubinol_data \" to quantitatively find out outliers\n",
    "quartiles = Infubinol_data.quantile([.25,.5,.75])\n",
    "lowerq = quartiles[0.25]\n",
    "upperq = quartiles[0.75]\n",
    "iqr = upperq-lowerq\n",
    "\n",
    "print(f\"The lower quartile of Infubinol is: {lowerq}\")\n",
    "print(f\"The upper quartile of Infubinol is: {upperq}\")\n",
    "print(f\"The interquartile range of Infubinol is: {iqr}\")\n",
    "print(f\"The median of Infubinol is: {quartiles[0.5]} \")\n",
    "\n",
    "\n",
    "lower_bound = lowerq - (1.5*iqr)\n",
    "upper_bound = upperq + (1.5*iqr)\n",
    "print(f\"Values below {lower_bound} could be outliers.\")\n",
    "print(f\"Values above {upper_bound} could be outliers.\")\n",
    "print(f\"The Infubinol dataset has ONE outlier . It is 36.321346\")"
   ]
  },
  {
   "cell_type": "code",
   "execution_count": 74,
   "metadata": {},
   "outputs": [
    {
     "name": "stdout",
     "output_type": "stream",
     "text": [
      "The lower quartile of Ceftamin is: 48.72207785\n",
      "The upper quartile of Ceftamin is: 64.29983003\n",
      "The interquartile range of Ceftamin is: 15.577752179999997\n",
      "The median of Ceftamin is: 59.85195552 \n",
      "Values below 25.355449580000002 could be outliers.\n",
      "Values above 87.66645829999999 could be outliers.\n",
      "The Ceftamin dataset has NO outliers.\n"
     ]
    }
   ],
   "source": [
    "#filtering rows from merged dataframe that have Tumor Volume for Ceftamin from column \"Tumor Volume(mm3)\"\n",
    "#Resulting in a Series \n",
    "\n",
    "merged_maxtime_df.head()\n",
    "Ceftamin_data = merged_maxtime_df.loc[\"Ceftamin\",\"Tumor Volume (mm3)\"]\n",
    "\n",
    "# using quantile() funtion on series \"Ceftamin_data \" to quantitatively find out outliers\n",
    "quartiles = Ceftamin_data.quantile([.25,.5,.75])\n",
    "lowerq = quartiles[0.25]\n",
    "upperq = quartiles[0.75]\n",
    "iqr = upperq-lowerq\n",
    "\n",
    "print(f\"The lower quartile of Ceftamin is: {lowerq}\")\n",
    "print(f\"The upper quartile of Ceftamin is: {upperq}\")\n",
    "print(f\"The interquartile range of Ceftamin is: {iqr}\")\n",
    "print(f\"The median of Ceftamin is: {quartiles[0.5]} \")\n",
    "\n",
    "\n",
    "lower_bound = lowerq - (1.5*iqr)\n",
    "upper_bound = upperq + (1.5*iqr)\n",
    "print(f\"Values below {lower_bound} could be outliers.\")\n",
    "print(f\"Values above {upper_bound} could be outliers.\")\n",
    "print(f\"The Ceftamin dataset has NO outliers.\")"
   ]
  },
  {
   "cell_type": "code",
   "execution_count": 84,
   "metadata": {},
   "outputs": [
    {
     "data": {
      "text/plain": [
       "{'whiskers': [<matplotlib.lines.Line2D at 0x1a17f00b38>,\n",
       "  <matplotlib.lines.Line2D at 0x1a17f00e80>,\n",
       "  <matplotlib.lines.Line2D at 0x1a17f10be0>,\n",
       "  <matplotlib.lines.Line2D at 0x1a17f10f28>,\n",
       "  <matplotlib.lines.Line2D at 0x1a17f25f98>,\n",
       "  <matplotlib.lines.Line2D at 0x1a17d336a0>,\n",
       "  <matplotlib.lines.Line2D at 0x1a17d4aa90>,\n",
       "  <matplotlib.lines.Line2D at 0x1a17d4add8>],\n",
       " 'caps': [<matplotlib.lines.Line2D at 0x1a17f00f60>,\n",
       "  <matplotlib.lines.Line2D at 0x1a17f00048>,\n",
       "  <matplotlib.lines.Line2D at 0x1a17f10eb8>,\n",
       "  <matplotlib.lines.Line2D at 0x1a17f255f8>,\n",
       "  <matplotlib.lines.Line2D at 0x1a17d339e8>,\n",
       "  <matplotlib.lines.Line2D at 0x1a17d33d30>,\n",
       "  <matplotlib.lines.Line2D at 0x1a17d4aeb8>,\n",
       "  <matplotlib.lines.Line2D at 0x1a17d584a8>],\n",
       " 'boxes': [<matplotlib.lines.Line2D at 0x1a17f00710>,\n",
       "  <matplotlib.lines.Line2D at 0x1a17f10898>,\n",
       "  <matplotlib.lines.Line2D at 0x1a17f25fd0>,\n",
       "  <matplotlib.lines.Line2D at 0x1a17d4a748>],\n",
       " 'medians': [<matplotlib.lines.Line2D at 0x1a17ef6518>,\n",
       "  <matplotlib.lines.Line2D at 0x1a17f25940>,\n",
       "  <matplotlib.lines.Line2D at 0x1a17d33e10>,\n",
       "  <matplotlib.lines.Line2D at 0x1a17d587f0>],\n",
       " 'fliers': [<matplotlib.lines.Line2D at 0x1a17ef6240>,\n",
       "  <matplotlib.lines.Line2D at 0x1a17f25c88>,\n",
       "  <matplotlib.lines.Line2D at 0x1a17d4a400>,\n",
       "  <matplotlib.lines.Line2D at 0x1a17d58b38>],\n",
       " 'means': []}"
      ]
     },
     "execution_count": 84,
     "metadata": {},
     "output_type": "execute_result"
    },
    {
     "data": {
      "image/png": "[encoded data removed]",
      "text/plain": [
       "<Figure size 432x288 with 1 Axes>"
      ]
     },
     "metadata": {
      "needs_background": "light"
     },
     "output_type": "display_data"
    }
   ],
   "source": [
    "# Generate a box plot of the final tumor volume of each mouse across four regimens of interest\n",
    "\n",
    "# data for box plot is from 4 series used previously\n",
    "data = [capomulin_data,Ramicane_data ,Infubinol_data ,Ceftamin_data]\n",
    "# controlling appearance of flierprops that denote the outliers\n",
    "red_sphere = dict(markerfacecolor='r', marker='o', markersize=10,)\n",
    "#  naming ticks\n",
    "labels=[\"Capomulin\",\"Ramicane\",\"Infubinol\",\"Ceftamin\"]\n",
    "#making the boxplot\n",
    "fig1, ax1 = plt.subplots()\n",
    "ax1.set_xticklabels(labels)\n",
    "ax1.set_ylabel('Tumor Volume (mm3)')\n",
    "ax1.boxplot(data, flierprops = red_sphere)\n"
   ]
  },
  {
   "cell_type": "markdown",
   "metadata": {},
   "source": [
    "## Line and scatter plots"
   ]
  },
  {
   "cell_type": "code",
   "execution_count": 83,
   "metadata": {},
   "outputs": [
    {
     "data": {
      "image/png": "[encoded data removed]",
      "text/plain": [
       "<Figure size 432x288 with 1 Axes>"
      ]
     },
     "metadata": {
      "needs_background": "light"
     },
     "output_type": "display_data"
    }
   ],
   "source": [
    "# Generate a line plot of time point versus tumor volume for a mouse treated with Capomulin\n",
    "# getting data for ine plot by using merged dataframe\n",
    "combined_df\n",
    "#Filtering rows that have data of one mouse treated with Capomulin . Result is a dataframe\n",
    "capomulin_data_df = combined_df.loc[combined_df[\"Mouse ID\"] == \"l509\", :]\n",
    "\n",
    "# x-axis values\n",
    "x_axis = np.arange(len(capomulin_data_df[\"Timepoint\"])) \n",
    "#y-axis values\n",
    "y_axis = [value for value in capomulin_data_df[\"Tumor Volume (mm3)\"]]\n",
    "\n",
    "#setting tick values, tick locations , naming the ticks\n",
    "tick_locations = [0,2,4,6,8]\n",
    "plt.xticks(tick_locations,[value for value in (capomulin_data_df[\"Timepoint\"][::2])])\n",
    "plt.title(\"Capomulin Treatment of Mouse l509\")\n",
    "# naming x-axis\n",
    "plt.xlabel(\"Timepoint (days)\")\n",
    "#naming y-axis\n",
    "plt.ylabel(\"Tumor Volume (mm3)\")\n",
    "#making the plot\n",
    "capomulin_plot = plt.plot(x_axis, y_axis)\n",
    "\n"
   ]
  },
  {
   "cell_type": "code",
   "execution_count": 77,
   "metadata": {},
   "outputs": [
    {
     "data": {
      "text/plain": [
       "<matplotlib.collections.PathCollection at 0x1a180f8cf8>"
      ]
     },
     "execution_count": 77,
     "metadata": {},
     "output_type": "execute_result"
    },
    {
     "data": {
      "image/png": "[encoded data removed]",
      "text/plain": [
       "<Figure size 432x288 with 1 Axes>"
      ]
     },
     "metadata": {
      "needs_background": "light"
     },
     "output_type": "display_data"
    }
   ],
   "source": [
    "# Generate a scatter plot of mouse weight versus average tumor volume for the Capomulin regimen\n",
    "# grouping merged dataframe by column\"Mouse ID\" & using mean() function on the groupby object. Result is a dataframe\n",
    "combined_df\n",
    "mouse_id_groupby_df = combined_df.groupby(\"Mouse ID\").mean()\n",
    "# renaming columns in new dataframe\n",
    "renamed = mouse_id_groupby_df.rename(columns={\"Weight (g)\":\"Avg Weight\",\"Tumor Volume (mm3)\":\"Avg Tumor Volume (mm3)\"})\n",
    "\n",
    "# merging new dataframe with originally provided dataframe\n",
    "scatter_merged_df = pd.merge(renamed , mouse_metadata, how = \"left\", on=\"Mouse ID\")\n",
    "\n",
    "#setting index with column \"Drug Regimen\"\n",
    "new_index_df = scatter_merged_df.set_index(\"Drug Regimen\")\n",
    "\n",
    "#filtering rows that have data for Capomulin . Result is a dataframe\n",
    "scatter_cap = new_index_df.loc[\"Capomulin\",:]\n",
    "\n",
    "#x-axis values\n",
    "x_axis = scatter_cap[\"Avg Weight\"].tolist()\n",
    "#y_axis values\n",
    "y_axis = scatter_cap[\"Avg Tumor Volume (mm3)\"]\n",
    "#naming x_axis and y-axis\n",
    "plt.xlabel(\"Weight(g)\")\n",
    "plt.ylabel(\"Tumor Volume (mm3)\")\n",
    "#making the plot\n",
    "plt.scatter(x_axis , y_axis)\n"
   ]
  },
  {
   "cell_type": "code",
   "execution_count": 78,
   "metadata": {},
   "outputs": [
    {
     "name": "stdout",
     "output_type": "stream",
     "text": [
      "The correlation between both factors is 0.84\n"
     ]
    },
    {
     "data": {
      "text/plain": [
       "Text(0, 0.5, 'Tumor Volume (mm3)')"
      ]
     },
     "execution_count": 78,
     "metadata": {},
     "output_type": "execute_result"
    },
    {
     "data": {
      "image/png": "[encoded data removed]",
      "text/plain": [
       "<Figure size 432x288 with 1 Axes>"
      ]
     },
     "metadata": {
      "needs_background": "light"
     },
     "output_type": "display_data"
    }
   ],
   "source": [
    "# Calculate the correlation coefficient and linear regression model for mouse weight and average tumor volume \n",
    "#for the Capomulin regimen\n",
    "\n",
    "# values needed to create scatter plot\n",
    "weight = scatter_cap[\"Avg Weight\"]\n",
    "tumor_volume = scatter_cap[\"Avg Tumor Volume (mm3)\"]\n",
    "\n",
    "# using st.pearsonr() \n",
    "correlation = st.pearsonr(weight,tumor_volume)\n",
    "print(f\"The correlation between both factors is {round(correlation[0],2)}\")\n",
    "\n",
    "x_values = weight\n",
    "y_values = tumor_volume\n",
    "\n",
    "#using linregress() \n",
    "(slope, intercept, rvalue, pvalue, stderr) = linregress(x_values, y_values)\n",
    "regress_values = x_values * slope + intercept\n",
    "line_eq = \"y = \" + str(round(slope,2)) + \"x + \" + str(round(intercept,2))\n",
    "#scatter plot\n",
    "plt.scatter(x_values,y_values)\n",
    "\n",
    "#line plot\n",
    "plt.plot(x_values,regress_values,\"r-\")\n",
    "\n",
    "plt.annotate(line_eq,(18,36),fontsize=15,color=\"red\")\n",
    "\n",
    "#naming x-axis & y-axis\n",
    "plt.xlabel(\"Weight (g)\")\n",
    "plt.ylabel(\"Tumor Volume (mm3)\")\n",
    "\n",
    "\n",
    "\n"
   ]
  }
 ],
 "metadata": {
  "anaconda-cloud": {},
  "kernelspec": {
   "display_name": "Python 3",
   "language": "python",
   "name": "python3"
  },
  "language_info": {
   "codemirror_mode": {
    "name": "ipython",
    "version": 3
   },
   "file_extension": ".py",
   "mimetype": "text/x-python",
   "name": "python",
   "nbconvert_exporter": "python",
   "pygments_lexer": "ipython3",
   "version": "3.7.3"
  }
 },
 "nbformat": 4,
 "nbformat_minor": 2
}
